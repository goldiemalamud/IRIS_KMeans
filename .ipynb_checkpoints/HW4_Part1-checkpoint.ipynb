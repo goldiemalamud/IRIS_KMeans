{
 "cells": [
  {
   "cell_type": "code",
   "execution_count": null,
   "metadata": {},
   "outputs": [],
   "source": []
  },
  {
   "cell_type": "markdown",
   "metadata": {},
   "source": [
    "## CS530 Data Mining Homework 4 part 1\n",
    "\n",
    "#### Question 1 (3 points): The Iris Dataset \n",
    "\n",
    "Load the Iris dataset using “datasets.load_iris()” from the Scikit-learn library. You can find the documentation of this dataset on Scikit-learn. Then Write a function that takes in two inputs:\n",
    "1.\tThe data part of the Iris set without the labels\n",
    "2.\tk, the number of clusters\n",
    "The function should implement the k-means algorithm as learned in class. Hence, the output of the function should be a list of cluster labels for each record of the Iris dataset, from 1 to k. \n"
   ]
  },
  {
   "cell_type": "code",
   "execution_count": 1,
   "metadata": {},
   "outputs": [],
   "source": [
    "from sklearn.datasets import load_iris\n",
    "from random import randint\n",
    "import collections, numpy\n",
    "from collections import Counter \n",
    "\n",
    "\n",
    "from scipy.spatial import distance\n",
    "import numpy as np\n",
    "\n",
    "iris = load_iris()\n",
    "X = iris.data\n",
    "\n",
    "\n",
    "def k_means(X, k = 3):\n",
    "\n",
    "    clusterLabels = []\n",
    "    i = 0\n",
    "    \n",
    "    #randomly assigns to clusters\n",
    "    for i in range(X.shape[0]):\n",
    "        clusterLabels.append(randint(1,k))\n",
    "        i += 1\n",
    "    clusterLabels = np.array(clusterLabels)\n",
    "    \n",
    "    #repeats steps to stabilize clusters a few times\n",
    "    for i in range(3):\n",
    "        try: \n",
    "            clusterLabels = stabilizeClusters(clusterLabels, X, k)\n",
    "        except:\n",
    "            i = i\n",
    "    return clusterLabels\n",
    "          \n",
    "def stabilizeClusters(clusterLabels, X, k):\n",
    "    \n",
    "    #array which holds k amount of clusters\n",
    "    kclusters = []\n",
    "    \n",
    "    for i in range(k):\n",
    "        \n",
    "        #initial array has values 1-3, so we need to increment i by 1 to compare\n",
    "        i += 1\n",
    "        cluster= []\n",
    "\n",
    "        for j in range(len(clusterLabels)):\n",
    "            if i == clusterLabels[j]:\n",
    "                cluster.append(X[j])\n",
    "        kclusters.append(cluster)\n",
    "\n",
    "    centroidArray = []\n",
    "    \n",
    "    #sum the columns of each cluster\n",
    "    #then divide sums by |Cp| which denotes the number of elements in the cluter\n",
    "    #add each sum/|CP| to an array to get the centroid then append each centroid to array of centroids\n",
    "    for cluster in kclusters:\n",
    "        \n",
    "        centroid = []\n",
    "        \n",
    "        sum0 = sum1 = sum2 = sum3 = 0\n",
    "        \n",
    "        dif0 = dif1 = dif2 = dif3 = 0\n",
    "\n",
    "        for col in cluster:\n",
    "            \n",
    "            sum0 += col[0]\n",
    "            sum1 += col[1]\n",
    "            sum2 += col[2]\n",
    "            sum3 += col[3]\n",
    "       \n",
    "        CP = len(cluster)\n",
    "        \n",
    "        centroid.append(sum0/CP)\n",
    "        centroid.append(sum1/CP)\n",
    "        centroid.append(sum2/CP)\n",
    "        centroid.append(sum3/CP)\n",
    "        \n",
    "        centroidArray.append(centroid)\n",
    "        \n",
    "    k = 0\n",
    "    \n",
    "    #assigning each sample to the centroid it is closest to\n",
    "\n",
    "    for i in X:\n",
    "        \n",
    "        distanceArray = []\n",
    "        for c in centroidArray:\n",
    "            d = distance.euclidean(i, c)\n",
    "            distanceArray.append(d)                    \n",
    "        for x in distanceArray:\n",
    "            if min(distanceArray) == x:\n",
    "                index = distanceArray.index(x)\n",
    "                clusterLabels[k] = index  + 1\n",
    "\n",
    "        k += 1\n",
    "        \n",
    "    return clusterLabels\n",
    "\n",
    "\n",
    "\n",
    "#calling the K-means function\n",
    "\n",
    "    \n"
   ]
  },
  {
   "cell_type": "code",
   "execution_count": 2,
   "metadata": {},
   "outputs": [
    {
     "name": "stdout",
     "output_type": "stream",
     "text": [
      "[3 3 3 3 3 3 3 3 3 3 3 3 3 3 3 3 3 3 3 3 3 3 3 3 3 3 3 3 3 3 3 3 3 3 3 3 3\n",
      " 3 3 3 3 3 3 3 3 3 3 3 3 3 1 1 1 2 1 2 1 2 1 2 2 2 2 1 2 1 2 2 2 2 1 2 1 1\n",
      " 2 1 1 1 2 2 2 2 2 1 2 1 1 2 2 2 2 1 2 2 2 2 2 2 2 2 1 1 1 1 1 1 2 1 1 1 1\n",
      " 1 1 1 1 1 1 1 1 1 1 1 1 1 1 1 1 1 1 1 1 1 1 1 1 1 1 1 1 1 1 1 1 1 1 1 1 1\n",
      " 1 1]\n"
     ]
    }
   ],
   "source": [
    "print(k_means(X, 3))"
   ]
  },
  {
   "cell_type": "code",
   "execution_count": null,
   "metadata": {},
   "outputs": [],
   "source": []
  },
  {
   "cell_type": "code",
   "execution_count": null,
   "metadata": {},
   "outputs": [],
   "source": []
  },
  {
   "cell_type": "code",
   "execution_count": null,
   "metadata": {},
   "outputs": [],
   "source": []
  },
  {
   "cell_type": "code",
   "execution_count": null,
   "metadata": {},
   "outputs": [],
   "source": []
  },
  {
   "cell_type": "code",
   "execution_count": null,
   "metadata": {},
   "outputs": [],
   "source": []
  },
  {
   "cell_type": "code",
   "execution_count": null,
   "metadata": {},
   "outputs": [],
   "source": []
  }
 ],
 "metadata": {
  "kernelspec": {
   "display_name": "Python 3",
   "language": "python",
   "name": "python3"
  },
  "language_info": {
   "codemirror_mode": {
    "name": "ipython",
    "version": 3
   },
   "file_extension": ".py",
   "mimetype": "text/x-python",
   "name": "python",
   "nbconvert_exporter": "python",
   "pygments_lexer": "ipython3",
   "version": "3.7.4"
  }
 },
 "nbformat": 4,
 "nbformat_minor": 2
}
